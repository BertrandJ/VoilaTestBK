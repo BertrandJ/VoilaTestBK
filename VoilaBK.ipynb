{
 "cells": [
  {
   "cell_type": "code",
   "execution_count": 41,
   "metadata": {},
   "outputs": [],
   "source": [
    "import pandas as pd\n",
    "import plotly.express as px\n",
    "import numpy as np\n",
    "from ipywidgets import interactive"
   ]
  },
  {
   "cell_type": "code",
   "execution_count": 43,
   "metadata": {},
   "outputs": [],
   "source": [
    "Twitterdf = pd.read_csv('https://raw.githubusercontent.com/BertrandJ/VoilaTestBK/master/BaseVoilaTest.csv')\n",
    "del Twitterdf['Unnamed: 0']"
   ]
  },
  {
   "cell_type": "markdown",
   "metadata": {},
   "source": [
    "# App used to see how many messages were sent in different countries per week\n",
    "## You can use the dropdown list to select your country of reference"
   ]
  },
  {
   "cell_type": "code",
   "execution_count": 45,
   "metadata": {},
   "outputs": [
    {
     "data": {
      "application/vnd.plotly.v1+json": {
       "config": {
        "plotlyServerURL": "https://plot.ly"
       },
       "data": [
        {
         "alignmentgroup": "True",
         "hoverlabel": {
          "namelength": 0
         },
         "hovertemplate": "DayWeek=Wed<br>Week=%{x}<br>Likes=%{y}",
         "legendgroup": "DayWeek=Wed",
         "marker": {
          "color": "#636efa"
         },
         "name": "DayWeek=Wed",
         "offsetgroup": "DayWeek=Wed",
         "orientation": "v",
         "showlegend": true,
         "textposition": "auto",
         "type": "bar",
         "x": [
          29,
          29,
          29,
          26,
          25,
          24,
          19,
          19,
          19,
          16,
          16,
          14,
          12,
          9,
          2,
          2,
          1,
          52,
          50,
          41,
          39,
          38,
          38,
          37,
          37,
          37,
          34,
          30,
          30,
          28,
          28,
          27,
          26,
          21,
          20,
          17,
          12,
          7,
          7,
          4,
          4,
          3,
          1,
          52,
          51,
          51,
          51,
          51,
          49,
          49,
          48,
          48,
          47,
          47,
          44,
          43,
          43,
          41,
          38,
          38,
          38,
          36,
          32,
          31,
          31,
          29,
          28,
          28,
          28,
          26,
          26,
          25,
          25,
          24,
          21,
          20,
          16,
          15,
          12,
          12,
          11,
          9,
          5,
          52,
          51,
          51,
          50,
          49,
          48,
          48,
          47,
          47,
          47,
          46,
          46,
          44,
          43,
          42,
          39,
          38,
          33,
          30,
          29,
          29,
          27,
          26,
          25
         ],
         "xaxis": "x",
         "y": [
          1630,
          52,
          1748,
          12721,
          2656,
          687,
          64,
          62,
          814,
          29,
          333,
          1633,
          1486,
          1649,
          221,
          320,
          6143,
          203,
          888,
          29,
          21,
          152,
          15,
          121,
          9,
          340,
          305,
          31,
          30,
          595,
          22,
          34,
          398,
          429,
          26,
          40,
          18,
          23,
          327,
          21,
          29,
          347,
          162,
          18,
          17,
          31,
          16,
          32,
          26,
          27,
          18,
          31,
          16,
          25,
          15,
          41,
          1180,
          19,
          76,
          14,
          3,
          15,
          301,
          16,
          8,
          43,
          13,
          52,
          25,
          23,
          34,
          47,
          27,
          47,
          415,
          8,
          58,
          30,
          563,
          41,
          68,
          49,
          39,
          60,
          22,
          96,
          43,
          33,
          13,
          62,
          21,
          26,
          54,
          26,
          37,
          759,
          8,
          27,
          24,
          47,
          44,
          25,
          32,
          57,
          11,
          55,
          22
         ],
         "yaxis": "y"
        },
        {
         "alignmentgroup": "True",
         "hoverlabel": {
          "namelength": 0
         },
         "hovertemplate": "DayWeek=Tue<br>Week=%{x}<br>Likes=%{y}",
         "legendgroup": "DayWeek=Tue",
         "marker": {
          "color": "#EF553B"
         },
         "name": "DayWeek=Tue",
         "offsetgroup": "DayWeek=Tue",
         "orientation": "v",
         "showlegend": true,
         "textposition": "auto",
         "type": "bar",
         "x": [
          28,
          27,
          26,
          26,
          25,
          25,
          23,
          23,
          22,
          20,
          14,
          13,
          13,
          10,
          9,
          8,
          7,
          6,
          4,
          3,
          2,
          1,
          51,
          49,
          48,
          46,
          45,
          43,
          41,
          38,
          38,
          38,
          38,
          38,
          38,
          38,
          38,
          36,
          34,
          32,
          31,
          30,
          26,
          26,
          26,
          23,
          23,
          19,
          17,
          16,
          15,
          15,
          13,
          10,
          10,
          9,
          4,
          2,
          2,
          52,
          51,
          50,
          49,
          47,
          46,
          39,
          36,
          35,
          35,
          33,
          30,
          30,
          30,
          30,
          29,
          29,
          27,
          27,
          25,
          23,
          20,
          18,
          17,
          16,
          14,
          14,
          10,
          8,
          6,
          4,
          3,
          1,
          51,
          49,
          48,
          46,
          45,
          43,
          42,
          41,
          40,
          38,
          35,
          34,
          34,
          32,
          32,
          30,
          27,
          27,
          26,
          26,
          25
         ],
         "xaxis": "x",
         "y": [
          899,
          4193,
          185,
          864,
          392,
          1190,
          69810,
          1527,
          10256,
          40877,
          5608,
          31,
          1439,
          558,
          313,
          846,
          2184,
          507,
          6040,
          16323,
          2307,
          1493,
          454,
          420,
          172,
          997,
          1937,
          678,
          388,
          3,
          5,
          5,
          5,
          1,
          0,
          13,
          5,
          79,
          1598,
          3460,
          1076,
          657,
          14,
          687,
          226,
          1354,
          23,
          3354,
          367,
          40,
          1122,
          20,
          25,
          38,
          1690,
          37,
          530,
          117,
          1193,
          864,
          27,
          436,
          222,
          19,
          1008,
          22,
          206,
          14,
          624,
          901,
          80,
          193,
          25,
          36,
          22,
          19,
          12,
          147,
          18,
          156,
          208,
          1215,
          254,
          1186,
          11,
          172,
          211,
          440,
          390,
          257,
          11,
          1004,
          976,
          203,
          468,
          38,
          115,
          67,
          451,
          74,
          39,
          150,
          57,
          36,
          156,
          12,
          29,
          38,
          22,
          86,
          49,
          97,
          70
         ],
         "yaxis": "y"
        },
        {
         "alignmentgroup": "True",
         "hoverlabel": {
          "namelength": 0
         },
         "hovertemplate": "DayWeek=Fri<br>Week=%{x}<br>Likes=%{y}",
         "legendgroup": "DayWeek=Fri",
         "marker": {
          "color": "#00cc96"
         },
         "name": "DayWeek=Fri",
         "offsetgroup": "DayWeek=Fri",
         "orientation": "v",
         "showlegend": true,
         "textposition": "auto",
         "type": "bar",
         "x": [
          28,
          27,
          27,
          25,
          23,
          22,
          14,
          14,
          14,
          13,
          11,
          11,
          11,
          9,
          9,
          9,
          8,
          8,
          8,
          8,
          7,
          5,
          1,
          49,
          49,
          48,
          47,
          45,
          43,
          43,
          43,
          43,
          43,
          43,
          42,
          42,
          39,
          38,
          38,
          37,
          37,
          36,
          35,
          34,
          33,
          32,
          31,
          30,
          27,
          26,
          25,
          25,
          24,
          24,
          22,
          22,
          21,
          21,
          21,
          21,
          19,
          18,
          16,
          14,
          9,
          4,
          1,
          52,
          52,
          51,
          51,
          49,
          49,
          49,
          48,
          44,
          40,
          40,
          39,
          34,
          34,
          33,
          31,
          30,
          30,
          29,
          29,
          29,
          27,
          27,
          25,
          25,
          24,
          23,
          20,
          19,
          18,
          17,
          17,
          16,
          16,
          13,
          11,
          10,
          6,
          6,
          4,
          3,
          2,
          51,
          50,
          50,
          47,
          46,
          45,
          44,
          43,
          43,
          41,
          39,
          38,
          37,
          36,
          31,
          30,
          29,
          27,
          26,
          25
         ],
         "xaxis": "x",
         "y": [
          1304,
          185,
          789,
          1193,
          900,
          1919,
          18,
          408,
          659,
          87018,
          339,
          162,
          1772,
          21,
          33,
          238,
          104,
          36,
          27,
          468,
          1098,
          1233,
          372,
          1921,
          136,
          588,
          1650,
          3395,
          17,
          100,
          4,
          202,
          7,
          82,
          452,
          37,
          270,
          454,
          16,
          566,
          308,
          315,
          31,
          688,
          3431,
          592,
          32,
          362,
          594,
          295,
          12,
          719,
          55,
          502,
          98,
          1157,
          30,
          25,
          680,
          112,
          841,
          20,
          22,
          33,
          116,
          98,
          562,
          185,
          39,
          387,
          12,
          39,
          118,
          13,
          14,
          2609,
          494,
          37,
          222,
          828,
          31,
          382,
          9,
          18,
          236,
          188,
          12,
          5,
          38,
          23,
          7,
          11,
          14,
          171,
          8,
          380,
          34,
          96,
          27,
          29,
          121,
          357,
          413,
          100,
          10,
          103,
          49,
          81,
          8,
          59,
          30,
          215,
          136,
          134,
          477,
          43,
          28,
          139,
          677,
          27,
          37,
          213,
          996,
          149,
          114,
          81,
          905,
          22,
          73
         ],
         "yaxis": "y"
        },
        {
         "alignmentgroup": "True",
         "hoverlabel": {
          "namelength": 0
         },
         "hovertemplate": "DayWeek=Thu<br>Week=%{x}<br>Likes=%{y}",
         "legendgroup": "DayWeek=Thu",
         "marker": {
          "color": "#ab63fa"
         },
         "name": "DayWeek=Thu",
         "offsetgroup": "DayWeek=Thu",
         "orientation": "v",
         "showlegend": true,
         "textposition": "auto",
         "type": "bar",
         "x": [
          28,
          26,
          24,
          24,
          24,
          24,
          23,
          22,
          17,
          14,
          14,
          11,
          10,
          10,
          10,
          10,
          10,
          10,
          10,
          10,
          10,
          10,
          10,
          10,
          10,
          9,
          8,
          6,
          5,
          4,
          50,
          44,
          43,
          43,
          43,
          42,
          42,
          41,
          40,
          39,
          38,
          37,
          35,
          35,
          30,
          29,
          29,
          29,
          28,
          25,
          25,
          16,
          13,
          12,
          12,
          11,
          9,
          8,
          8,
          7,
          7,
          6,
          52,
          51,
          50,
          49,
          47,
          47,
          47,
          47,
          37,
          36,
          34,
          34,
          32,
          31,
          31,
          29,
          28,
          26,
          23,
          22,
          22,
          21,
          21,
          20,
          16,
          15,
          12,
          7,
          5,
          4,
          2,
          2,
          1,
          52,
          52,
          49,
          49,
          48,
          47,
          47,
          47,
          46,
          46,
          45,
          45,
          44,
          43,
          42,
          39,
          38,
          37,
          37,
          37,
          34,
          32,
          31,
          30,
          29,
          29,
          29,
          28,
          26,
          25,
          25,
          24,
          24
         ],
         "xaxis": "x",
         "y": [
          809,
          566,
          243,
          251,
          1894,
          634,
          1241,
          890,
          75662,
          25,
          1041,
          1804,
          347,
          44,
          22,
          30,
          14,
          20,
          13,
          16,
          14,
          23,
          27,
          22,
          326,
          113,
          830,
          2174,
          1045,
          130,
          125,
          91632,
          3,
          94,
          41,
          4,
          102,
          950,
          432,
          22,
          58,
          25,
          12,
          277,
          83,
          592,
          23,
          59,
          140,
          24,
          247,
          1510,
          441,
          20,
          1821,
          630,
          856,
          47,
          16,
          16,
          39,
          229,
          13,
          14,
          46,
          41,
          1548,
          7,
          35,
          13,
          30,
          10,
          24,
          23,
          61,
          21,
          16,
          21,
          15,
          71,
          17,
          365,
          35,
          12,
          26,
          35,
          58,
          802,
          33,
          184,
          57,
          70,
          15,
          210,
          29,
          29,
          389,
          37,
          27,
          28,
          16,
          12,
          28,
          9,
          35,
          68,
          32,
          49,
          55,
          837,
          581,
          65,
          50,
          25,
          40,
          71,
          98,
          70,
          27,
          19,
          28,
          117,
          209,
          44,
          13,
          22,
          6,
          78
         ],
         "yaxis": "y"
        },
        {
         "alignmentgroup": "True",
         "hoverlabel": {
          "namelength": 0
         },
         "hovertemplate": "DayWeek=Sun<br>Week=%{x}<br>Likes=%{y}",
         "legendgroup": "DayWeek=Sun",
         "marker": {
          "color": "#FFA15A"
         },
         "name": "DayWeek=Sun",
         "offsetgroup": "DayWeek=Sun",
         "orientation": "v",
         "showlegend": true,
         "textposition": "auto",
         "type": "bar",
         "x": [
          26,
          14,
          49,
          28,
          52,
          40,
          35
         ],
         "xaxis": "x",
         "y": [
          938,
          655,
          7193,
          564,
          245,
          24,
          948
         ],
         "yaxis": "y"
        },
        {
         "alignmentgroup": "True",
         "hoverlabel": {
          "namelength": 0
         },
         "hovertemplate": "DayWeek=Sat<br>Week=%{x}<br>Likes=%{y}",
         "legendgroup": "DayWeek=Sat",
         "marker": {
          "color": "#19d3f3"
         },
         "name": "DayWeek=Sat",
         "offsetgroup": "DayWeek=Sat",
         "orientation": "v",
         "showlegend": true,
         "textposition": "auto",
         "type": "bar",
         "x": [
          26,
          15,
          15,
          11,
          11,
          11,
          11,
          45,
          38,
          20,
          51,
          40,
          2,
          2,
          39,
          29
         ],
         "xaxis": "x",
         "y": [
          976,
          44,
          966,
          106,
          104,
          65,
          239,
          90,
          34,
          210,
          15,
          22,
          44,
          305,
          28,
          50
         ],
         "yaxis": "y"
        },
        {
         "alignmentgroup": "True",
         "hoverlabel": {
          "namelength": 0
         },
         "hovertemplate": "DayWeek=Mon<br>Week=%{x}<br>Likes=%{y}",
         "legendgroup": "DayWeek=Mon",
         "marker": {
          "color": "#FF6692"
         },
         "name": "DayWeek=Mon",
         "offsetgroup": "DayWeek=Mon",
         "orientation": "v",
         "showlegend": true,
         "textposition": "auto",
         "type": "bar",
         "x": [
          24,
          19,
          19,
          17,
          13,
          11,
          10,
          8,
          7,
          6,
          5,
          4,
          3,
          46,
          43,
          39,
          38,
          37,
          37,
          36,
          36,
          35,
          35,
          32,
          28,
          26,
          26,
          25,
          25,
          25,
          24,
          23,
          21,
          21,
          20,
          19,
          19,
          19,
          19,
          19,
          19,
          19,
          19,
          17,
          14,
          12,
          11,
          10,
          8,
          7,
          5,
          4,
          4,
          4,
          51,
          51,
          51,
          51,
          48,
          44,
          44,
          44,
          43,
          41,
          40,
          38,
          36,
          36,
          36,
          35,
          34,
          29,
          28,
          28,
          26,
          24,
          22,
          20,
          19,
          17,
          13,
          11,
          9,
          7,
          50,
          49,
          49,
          47,
          46,
          41,
          40,
          40,
          38,
          37,
          36,
          33,
          32,
          28,
          26,
          25
         ],
         "xaxis": "x",
         "y": [
          1398,
          125,
          6238,
          818,
          17344,
          1758,
          280,
          1594,
          1168,
          816,
          316,
          473,
          855,
          3329,
          937,
          697,
          402,
          9,
          139,
          17,
          1031,
          31,
          1130,
          329,
          391,
          28,
          1093,
          66,
          61,
          30,
          468,
          631,
          452,
          17,
          705,
          62,
          101,
          56,
          53,
          61,
          77,
          147,
          880,
          291,
          30,
          446,
          260,
          190,
          584,
          557,
          2225,
          43,
          24,
          1366,
          260,
          769,
          16,
          17,
          345,
          208,
          13,
          33,
          36,
          177,
          260,
          816,
          47,
          13,
          116,
          659,
          206,
          46,
          77,
          14,
          23,
          157,
          39,
          64,
          54,
          29,
          367,
          336,
          485,
          7,
          15,
          260,
          26,
          44,
          334,
          62,
          19,
          11,
          25,
          247,
          49,
          64,
          42,
          245,
          72,
          41
         ],
         "yaxis": "y"
        }
       ],
       "layout": {
        "autosize": true,
        "barmode": "relative",
        "legend": {
         "tracegroupgap": 0
        },
        "margin": {
         "t": 60
        },
        "template": {
         "data": {
          "bar": [
           {
            "error_x": {
             "color": "#2a3f5f"
            },
            "error_y": {
             "color": "#2a3f5f"
            },
            "marker": {
             "line": {
              "color": "#E5ECF6",
              "width": 0.5
             }
            },
            "type": "bar"
           }
          ],
          "barpolar": [
           {
            "marker": {
             "line": {
              "color": "#E5ECF6",
              "width": 0.5
             }
            },
            "type": "barpolar"
           }
          ],
          "carpet": [
           {
            "aaxis": {
             "endlinecolor": "#2a3f5f",
             "gridcolor": "white",
             "linecolor": "white",
             "minorgridcolor": "white",
             "startlinecolor": "#2a3f5f"
            },
            "baxis": {
             "endlinecolor": "#2a3f5f",
             "gridcolor": "white",
             "linecolor": "white",
             "minorgridcolor": "white",
             "startlinecolor": "#2a3f5f"
            },
            "type": "carpet"
           }
          ],
          "choropleth": [
           {
            "colorbar": {
             "outlinewidth": 0,
             "ticks": ""
            },
            "type": "choropleth"
           }
          ],
          "contour": [
           {
            "colorbar": {
             "outlinewidth": 0,
             "ticks": ""
            },
            "colorscale": [
             [
              0,
              "#0d0887"
             ],
             [
              0.1111111111111111,
              "#46039f"
             ],
             [
              0.2222222222222222,
              "#7201a8"
             ],
             [
              0.3333333333333333,
              "#9c179e"
             ],
             [
              0.4444444444444444,
              "#bd3786"
             ],
             [
              0.5555555555555556,
              "#d8576b"
             ],
             [
              0.6666666666666666,
              "#ed7953"
             ],
             [
              0.7777777777777778,
              "#fb9f3a"
             ],
             [
              0.8888888888888888,
              "#fdca26"
             ],
             [
              1,
              "#f0f921"
             ]
            ],
            "type": "contour"
           }
          ],
          "contourcarpet": [
           {
            "colorbar": {
             "outlinewidth": 0,
             "ticks": ""
            },
            "type": "contourcarpet"
           }
          ],
          "heatmap": [
           {
            "colorbar": {
             "outlinewidth": 0,
             "ticks": ""
            },
            "colorscale": [
             [
              0,
              "#0d0887"
             ],
             [
              0.1111111111111111,
              "#46039f"
             ],
             [
              0.2222222222222222,
              "#7201a8"
             ],
             [
              0.3333333333333333,
              "#9c179e"
             ],
             [
              0.4444444444444444,
              "#bd3786"
             ],
             [
              0.5555555555555556,
              "#d8576b"
             ],
             [
              0.6666666666666666,
              "#ed7953"
             ],
             [
              0.7777777777777778,
              "#fb9f3a"
             ],
             [
              0.8888888888888888,
              "#fdca26"
             ],
             [
              1,
              "#f0f921"
             ]
            ],
            "type": "heatmap"
           }
          ],
          "heatmapgl": [
           {
            "colorbar": {
             "outlinewidth": 0,
             "ticks": ""
            },
            "colorscale": [
             [
              0,
              "#0d0887"
             ],
             [
              0.1111111111111111,
              "#46039f"
             ],
             [
              0.2222222222222222,
              "#7201a8"
             ],
             [
              0.3333333333333333,
              "#9c179e"
             ],
             [
              0.4444444444444444,
              "#bd3786"
             ],
             [
              0.5555555555555556,
              "#d8576b"
             ],
             [
              0.6666666666666666,
              "#ed7953"
             ],
             [
              0.7777777777777778,
              "#fb9f3a"
             ],
             [
              0.8888888888888888,
              "#fdca26"
             ],
             [
              1,
              "#f0f921"
             ]
            ],
            "type": "heatmapgl"
           }
          ],
          "histogram": [
           {
            "marker": {
             "colorbar": {
              "outlinewidth": 0,
              "ticks": ""
             }
            },
            "type": "histogram"
           }
          ],
          "histogram2d": [
           {
            "colorbar": {
             "outlinewidth": 0,
             "ticks": ""
            },
            "colorscale": [
             [
              0,
              "#0d0887"
             ],
             [
              0.1111111111111111,
              "#46039f"
             ],
             [
              0.2222222222222222,
              "#7201a8"
             ],
             [
              0.3333333333333333,
              "#9c179e"
             ],
             [
              0.4444444444444444,
              "#bd3786"
             ],
             [
              0.5555555555555556,
              "#d8576b"
             ],
             [
              0.6666666666666666,
              "#ed7953"
             ],
             [
              0.7777777777777778,
              "#fb9f3a"
             ],
             [
              0.8888888888888888,
              "#fdca26"
             ],
             [
              1,
              "#f0f921"
             ]
            ],
            "type": "histogram2d"
           }
          ],
          "histogram2dcontour": [
           {
            "colorbar": {
             "outlinewidth": 0,
             "ticks": ""
            },
            "colorscale": [
             [
              0,
              "#0d0887"
             ],
             [
              0.1111111111111111,
              "#46039f"
             ],
             [
              0.2222222222222222,
              "#7201a8"
             ],
             [
              0.3333333333333333,
              "#9c179e"
             ],
             [
              0.4444444444444444,
              "#bd3786"
             ],
             [
              0.5555555555555556,
              "#d8576b"
             ],
             [
              0.6666666666666666,
              "#ed7953"
             ],
             [
              0.7777777777777778,
              "#fb9f3a"
             ],
             [
              0.8888888888888888,
              "#fdca26"
             ],
             [
              1,
              "#f0f921"
             ]
            ],
            "type": "histogram2dcontour"
           }
          ],
          "mesh3d": [
           {
            "colorbar": {
             "outlinewidth": 0,
             "ticks": ""
            },
            "type": "mesh3d"
           }
          ],
          "parcoords": [
           {
            "line": {
             "colorbar": {
              "outlinewidth": 0,
              "ticks": ""
             }
            },
            "type": "parcoords"
           }
          ],
          "pie": [
           {
            "automargin": true,
            "type": "pie"
           }
          ],
          "scatter": [
           {
            "marker": {
             "colorbar": {
              "outlinewidth": 0,
              "ticks": ""
             }
            },
            "type": "scatter"
           }
          ],
          "scatter3d": [
           {
            "line": {
             "colorbar": {
              "outlinewidth": 0,
              "ticks": ""
             }
            },
            "marker": {
             "colorbar": {
              "outlinewidth": 0,
              "ticks": ""
             }
            },
            "type": "scatter3d"
           }
          ],
          "scattercarpet": [
           {
            "marker": {
             "colorbar": {
              "outlinewidth": 0,
              "ticks": ""
             }
            },
            "type": "scattercarpet"
           }
          ],
          "scattergeo": [
           {
            "marker": {
             "colorbar": {
              "outlinewidth": 0,
              "ticks": ""
             }
            },
            "type": "scattergeo"
           }
          ],
          "scattergl": [
           {
            "marker": {
             "colorbar": {
              "outlinewidth": 0,
              "ticks": ""
             }
            },
            "type": "scattergl"
           }
          ],
          "scattermapbox": [
           {
            "marker": {
             "colorbar": {
              "outlinewidth": 0,
              "ticks": ""
             }
            },
            "type": "scattermapbox"
           }
          ],
          "scatterpolar": [
           {
            "marker": {
             "colorbar": {
              "outlinewidth": 0,
              "ticks": ""
             }
            },
            "type": "scatterpolar"
           }
          ],
          "scatterpolargl": [
           {
            "marker": {
             "colorbar": {
              "outlinewidth": 0,
              "ticks": ""
             }
            },
            "type": "scatterpolargl"
           }
          ],
          "scatterternary": [
           {
            "marker": {
             "colorbar": {
              "outlinewidth": 0,
              "ticks": ""
             }
            },
            "type": "scatterternary"
           }
          ],
          "surface": [
           {
            "colorbar": {
             "outlinewidth": 0,
             "ticks": ""
            },
            "colorscale": [
             [
              0,
              "#0d0887"
             ],
             [
              0.1111111111111111,
              "#46039f"
             ],
             [
              0.2222222222222222,
              "#7201a8"
             ],
             [
              0.3333333333333333,
              "#9c179e"
             ],
             [
              0.4444444444444444,
              "#bd3786"
             ],
             [
              0.5555555555555556,
              "#d8576b"
             ],
             [
              0.6666666666666666,
              "#ed7953"
             ],
             [
              0.7777777777777778,
              "#fb9f3a"
             ],
             [
              0.8888888888888888,
              "#fdca26"
             ],
             [
              1,
              "#f0f921"
             ]
            ],
            "type": "surface"
           }
          ],
          "table": [
           {
            "cells": {
             "fill": {
              "color": "#EBF0F8"
             },
             "line": {
              "color": "white"
             }
            },
            "header": {
             "fill": {
              "color": "#C8D4E3"
             },
             "line": {
              "color": "white"
             }
            },
            "type": "table"
           }
          ]
         },
         "layout": {
          "annotationdefaults": {
           "arrowcolor": "#2a3f5f",
           "arrowhead": 0,
           "arrowwidth": 1
          },
          "coloraxis": {
           "colorbar": {
            "outlinewidth": 0,
            "ticks": ""
           }
          },
          "colorscale": {
           "diverging": [
            [
             0,
             "#8e0152"
            ],
            [
             0.1,
             "#c51b7d"
            ],
            [
             0.2,
             "#de77ae"
            ],
            [
             0.3,
             "#f1b6da"
            ],
            [
             0.4,
             "#fde0ef"
            ],
            [
             0.5,
             "#f7f7f7"
            ],
            [
             0.6,
             "#e6f5d0"
            ],
            [
             0.7,
             "#b8e186"
            ],
            [
             0.8,
             "#7fbc41"
            ],
            [
             0.9,
             "#4d9221"
            ],
            [
             1,
             "#276419"
            ]
           ],
           "sequential": [
            [
             0,
             "#0d0887"
            ],
            [
             0.1111111111111111,
             "#46039f"
            ],
            [
             0.2222222222222222,
             "#7201a8"
            ],
            [
             0.3333333333333333,
             "#9c179e"
            ],
            [
             0.4444444444444444,
             "#bd3786"
            ],
            [
             0.5555555555555556,
             "#d8576b"
            ],
            [
             0.6666666666666666,
             "#ed7953"
            ],
            [
             0.7777777777777778,
             "#fb9f3a"
            ],
            [
             0.8888888888888888,
             "#fdca26"
            ],
            [
             1,
             "#f0f921"
            ]
           ],
           "sequentialminus": [
            [
             0,
             "#0d0887"
            ],
            [
             0.1111111111111111,
             "#46039f"
            ],
            [
             0.2222222222222222,
             "#7201a8"
            ],
            [
             0.3333333333333333,
             "#9c179e"
            ],
            [
             0.4444444444444444,
             "#bd3786"
            ],
            [
             0.5555555555555556,
             "#d8576b"
            ],
            [
             0.6666666666666666,
             "#ed7953"
            ],
            [
             0.7777777777777778,
             "#fb9f3a"
            ],
            [
             0.8888888888888888,
             "#fdca26"
            ],
            [
             1,
             "#f0f921"
            ]
           ]
          },
          "colorway": [
           "#636efa",
           "#EF553B",
           "#00cc96",
           "#ab63fa",
           "#FFA15A",
           "#19d3f3",
           "#FF6692",
           "#B6E880",
           "#FF97FF",
           "#FECB52"
          ],
          "font": {
           "color": "#2a3f5f"
          },
          "geo": {
           "bgcolor": "white",
           "lakecolor": "white",
           "landcolor": "#E5ECF6",
           "showlakes": true,
           "showland": true,
           "subunitcolor": "white"
          },
          "hoverlabel": {
           "align": "left"
          },
          "hovermode": "closest",
          "mapbox": {
           "style": "light"
          },
          "paper_bgcolor": "white",
          "plot_bgcolor": "#E5ECF6",
          "polar": {
           "angularaxis": {
            "gridcolor": "white",
            "linecolor": "white",
            "ticks": ""
           },
           "bgcolor": "#E5ECF6",
           "radialaxis": {
            "gridcolor": "white",
            "linecolor": "white",
            "ticks": ""
           }
          },
          "scene": {
           "xaxis": {
            "backgroundcolor": "#E5ECF6",
            "gridcolor": "white",
            "gridwidth": 2,
            "linecolor": "white",
            "showbackground": true,
            "ticks": "",
            "zerolinecolor": "white"
           },
           "yaxis": {
            "backgroundcolor": "#E5ECF6",
            "gridcolor": "white",
            "gridwidth": 2,
            "linecolor": "white",
            "showbackground": true,
            "ticks": "",
            "zerolinecolor": "white"
           },
           "zaxis": {
            "backgroundcolor": "#E5ECF6",
            "gridcolor": "white",
            "gridwidth": 2,
            "linecolor": "white",
            "showbackground": true,
            "ticks": "",
            "zerolinecolor": "white"
           }
          },
          "shapedefaults": {
           "line": {
            "color": "#2a3f5f"
           }
          },
          "ternary": {
           "aaxis": {
            "gridcolor": "white",
            "linecolor": "white",
            "ticks": ""
           },
           "baxis": {
            "gridcolor": "white",
            "linecolor": "white",
            "ticks": ""
           },
           "bgcolor": "#E5ECF6",
           "caxis": {
            "gridcolor": "white",
            "linecolor": "white",
            "ticks": ""
           }
          },
          "title": {
           "x": 0.05
          },
          "xaxis": {
           "automargin": true,
           "gridcolor": "white",
           "linecolor": "white",
           "ticks": "",
           "title": {
            "standoff": 15
           },
           "zerolinecolor": "white",
           "zerolinewidth": 2
          },
          "yaxis": {
           "automargin": true,
           "gridcolor": "white",
           "linecolor": "white",
           "ticks": "",
           "title": {
            "standoff": 15
           },
           "zerolinecolor": "white",
           "zerolinewidth": 2
          }
         }
        },
        "xaxis": {
         "anchor": "y",
         "autorange": true,
         "domain": [
          0,
          1
         ],
         "range": [
          0.5,
          52.5
         ],
         "title": {
          "text": "Week"
         },
         "type": "linear"
        },
        "yaxis": {
         "anchor": "x",
         "autorange": true,
         "domain": [
          0,
          1
         ],
         "range": [
          0,
          112654.73684210527
         ],
         "title": {
          "text": "Likes"
         },
         "type": "linear"
        }
       }
      },
      "image/png": "[encoded data removed]",
      "text/html": [
       "<div>\n",
       "        \n",
       "        \n",
       "            <div id=\"5300da43-19d4-4725-a83b-f6c553fb37c7\" class=\"plotly-graph-div\" style=\"height:525px; width:100%;\"></div>\n",
       "            <script type=\"text/javascript\">\n",
       "                require([\"plotly\"], function(Plotly) {\n",
       "                    window.PLOTLYENV=window.PLOTLYENV || {};\n",
       "                    \n",
       "                if (document.getElementById(\"5300da43-19d4-4725-a83b-f6c553fb37c7\")) {\n",
       "                    Plotly.newPlot(\n",
       "                        '5300da43-19d4-4725-a83b-f6c553fb37c7',\n",
       "                        [{\"alignmentgroup\": \"True\", \"hoverlabel\": {\"namelength\": 0}, \"hovertemplate\": \"DayWeek=Wed<br>Week=%{x}<br>Likes=%{y}\", \"legendgroup\": \"DayWeek=Wed\", \"marker\": {\"color\": \"#636efa\"}, \"name\": \"DayWeek=Wed\", \"offsetgroup\": \"DayWeek=Wed\", \"orientation\": \"v\", \"showlegend\": true, \"textposition\": \"auto\", \"type\": \"bar\", \"x\": [29, 29, 29, 26, 25, 24, 19, 19, 19, 16, 16, 14, 12, 9, 2, 2, 1, 52, 50, 41, 39, 38, 38, 37, 37, 37, 34, 30, 30, 28, 28, 27, 26, 21, 20, 17, 12, 7, 7, 4, 4, 3, 1, 52, 51, 51, 51, 51, 49, 49, 48, 48, 47, 47, 44, 43, 43, 41, 38, 38, 38, 36, 32, 31, 31, 29, 28, 28, 28, 26, 26, 25, 25, 24, 21, 20, 16, 15, 12, 12, 11, 9, 5, 52, 51, 51, 50, 49, 48, 48, 47, 47, 47, 46, 46, 44, 43, 42, 39, 38, 33, 30, 29, 29, 27, 26, 25], \"xaxis\": \"x\", \"y\": [1630, 52, 1748, 12721, 2656, 687, 64, 62, 814, 29, 333, 1633, 1486, 1649, 221, 320, 6143, 203, 888, 29, 21, 152, 15, 121, 9, 340, 305, 31, 30, 595, 22, 34, 398, 429, 26, 40, 18, 23, 327, 21, 29, 347, 162, 18, 17, 31, 16, 32, 26, 27, 18, 31, 16, 25, 15, 41, 1180, 19, 76, 14, 3, 15, 301, 16, 8, 43, 13, 52, 25, 23, 34, 47, 27, 47, 415, 8, 58, 30, 563, 41, 68, 49, 39, 60, 22, 96, 43, 33, 13, 62, 21, 26, 54, 26, 37, 759, 8, 27, 24, 47, 44, 25, 32, 57, 11, 55, 22], \"yaxis\": \"y\"}, {\"alignmentgroup\": \"True\", \"hoverlabel\": {\"namelength\": 0}, \"hovertemplate\": \"DayWeek=Tue<br>Week=%{x}<br>Likes=%{y}\", \"legendgroup\": \"DayWeek=Tue\", \"marker\": {\"color\": \"#EF553B\"}, \"name\": \"DayWeek=Tue\", \"offsetgroup\": \"DayWeek=Tue\", \"orientation\": \"v\", \"showlegend\": true, \"textposition\": \"auto\", \"type\": \"bar\", \"x\": [28, 27, 26, 26, 25, 25, 23, 23, 22, 20, 14, 13, 13, 10, 9, 8, 7, 6, 4, 3, 2, 1, 51, 49, 48, 46, 45, 43, 41, 38, 38, 38, 38, 38, 38, 38, 38, 36, 34, 32, 31, 30, 26, 26, 26, 23, 23, 19, 17, 16, 15, 15, 13, 10, 10, 9, 4, 2, 2, 52, 51, 50, 49, 47, 46, 39, 36, 35, 35, 33, 30, 30, 30, 30, 29, 29, 27, 27, 25, 23, 20, 18, 17, 16, 14, 14, 10, 8, 6, 4, 3, 1, 51, 49, 48, 46, 45, 43, 42, 41, 40, 38, 35, 34, 34, 32, 32, 30, 27, 27, 26, 26, 25], \"xaxis\": \"x\", \"y\": [899, 4193, 185, 864, 392, 1190, 69810, 1527, 10256, 40877, 5608, 31, 1439, 558, 313, 846, 2184, 507, 6040, 16323, 2307, 1493, 454, 420, 172, 997, 1937, 678, 388, 3, 5, 5, 5, 1, 0, 13, 5, 79, 1598, 3460, 1076, 657, 14, 687, 226, 1354, 23, 3354, 367, 40, 1122, 20, 25, 38, 1690, 37, 530, 117, 1193, 864, 27, 436, 222, 19, 1008, 22, 206, 14, 624, 901, 80, 193, 25, 36, 22, 19, 12, 147, 18, 156, 208, 1215, 254, 1186, 11, 172, 211, 440, 390, 257, 11, 1004, 976, 203, 468, 38, 115, 67, 451, 74, 39, 150, 57, 36, 156, 12, 29, 38, 22, 86, 49, 97, 70], \"yaxis\": \"y\"}, {\"alignmentgroup\": \"True\", \"hoverlabel\": {\"namelength\": 0}, \"hovertemplate\": \"DayWeek=Fri<br>Week=%{x}<br>Likes=%{y}\", \"legendgroup\": \"DayWeek=Fri\", \"marker\": {\"color\": \"#00cc96\"}, \"name\": \"DayWeek=Fri\", \"offsetgroup\": \"DayWeek=Fri\", \"orientation\": \"v\", \"showlegend\": true, \"textposition\": \"auto\", \"type\": \"bar\", \"x\": [28, 27, 27, 25, 23, 22, 14, 14, 14, 13, 11, 11, 11, 9, 9, 9, 8, 8, 8, 8, 7, 5, 1, 49, 49, 48, 47, 45, 43, 43, 43, 43, 43, 43, 42, 42, 39, 38, 38, 37, 37, 36, 35, 34, 33, 32, 31, 30, 27, 26, 25, 25, 24, 24, 22, 22, 21, 21, 21, 21, 19, 18, 16, 14, 9, 4, 1, 52, 52, 51, 51, 49, 49, 49, 48, 44, 40, 40, 39, 34, 34, 33, 31, 30, 30, 29, 29, 29, 27, 27, 25, 25, 24, 23, 20, 19, 18, 17, 17, 16, 16, 13, 11, 10, 6, 6, 4, 3, 2, 51, 50, 50, 47, 46, 45, 44, 43, 43, 41, 39, 38, 37, 36, 31, 30, 29, 27, 26, 25], \"xaxis\": \"x\", \"y\": [1304, 185, 789, 1193, 900, 1919, 18, 408, 659, 87018, 339, 162, 1772, 21, 33, 238, 104, 36, 27, 468, 1098, 1233, 372, 1921, 136, 588, 1650, 3395, 17, 100, 4, 202, 7, 82, 452, 37, 270, 454, 16, 566, 308, 315, 31, 688, 3431, 592, 32, 362, 594, 295, 12, 719, 55, 502, 98, 1157, 30, 25, 680, 112, 841, 20, 22, 33, 116, 98, 562, 185, 39, 387, 12, 39, 118, 13, 14, 2609, 494, 37, 222, 828, 31, 382, 9, 18, 236, 188, 12, 5, 38, 23, 7, 11, 14, 171, 8, 380, 34, 96, 27, 29, 121, 357, 413, 100, 10, 103, 49, 81, 8, 59, 30, 215, 136, 134, 477, 43, 28, 139, 677, 27, 37, 213, 996, 149, 114, 81, 905, 22, 73], \"yaxis\": \"y\"}, {\"alignmentgroup\": \"True\", \"hoverlabel\": {\"namelength\": 0}, \"hovertemplate\": \"DayWeek=Thu<br>Week=%{x}<br>Likes=%{y}\", \"legendgroup\": \"DayWeek=Thu\", \"marker\": {\"color\": \"#ab63fa\"}, \"name\": \"DayWeek=Thu\", \"offsetgroup\": \"DayWeek=Thu\", \"orientation\": \"v\", \"showlegend\": true, \"textposition\": \"auto\", \"type\": \"bar\", \"x\": [28, 26, 24, 24, 24, 24, 23, 22, 17, 14, 14, 11, 10, 10, 10, 10, 10, 10, 10, 10, 10, 10, 10, 10, 10, 9, 8, 6, 5, 4, 50, 44, 43, 43, 43, 42, 42, 41, 40, 39, 38, 37, 35, 35, 30, 29, 29, 29, 28, 25, 25, 16, 13, 12, 12, 11, 9, 8, 8, 7, 7, 6, 52, 51, 50, 49, 47, 47, 47, 47, 37, 36, 34, 34, 32, 31, 31, 29, 28, 26, 23, 22, 22, 21, 21, 20, 16, 15, 12, 7, 5, 4, 2, 2, 1, 52, 52, 49, 49, 48, 47, 47, 47, 46, 46, 45, 45, 44, 43, 42, 39, 38, 37, 37, 37, 34, 32, 31, 30, 29, 29, 29, 28, 26, 25, 25, 24, 24], \"xaxis\": \"x\", \"y\": [809, 566, 243, 251, 1894, 634, 1241, 890, 75662, 25, 1041, 1804, 347, 44, 22, 30, 14, 20, 13, 16, 14, 23, 27, 22, 326, 113, 830, 2174, 1045, 130, 125, 91632, 3, 94, 41, 4, 102, 950, 432, 22, 58, 25, 12, 277, 83, 592, 23, 59, 140, 24, 247, 1510, 441, 20, 1821, 630, 856, 47, 16, 16, 39, 229, 13, 14, 46, 41, 1548, 7, 35, 13, 30, 10, 24, 23, 61, 21, 16, 21, 15, 71, 17, 365, 35, 12, 26, 35, 58, 802, 33, 184, 57, 70, 15, 210, 29, 29, 389, 37, 27, 28, 16, 12, 28, 9, 35, 68, 32, 49, 55, 837, 581, 65, 50, 25, 40, 71, 98, 70, 27, 19, 28, 117, 209, 44, 13, 22, 6, 78], \"yaxis\": \"y\"}, {\"alignmentgroup\": \"True\", \"hoverlabel\": {\"namelength\": 0}, \"hovertemplate\": \"DayWeek=Sun<br>Week=%{x}<br>Likes=%{y}\", \"legendgroup\": \"DayWeek=Sun\", \"marker\": {\"color\": \"#FFA15A\"}, \"name\": \"DayWeek=Sun\", \"offsetgroup\": \"DayWeek=Sun\", \"orientation\": \"v\", \"showlegend\": true, \"textposition\": \"auto\", \"type\": \"bar\", \"x\": [26, 14, 49, 28, 52, 40, 35], \"xaxis\": \"x\", \"y\": [938, 655, 7193, 564, 245, 24, 948], \"yaxis\": \"y\"}, {\"alignmentgroup\": \"True\", \"hoverlabel\": {\"namelength\": 0}, \"hovertemplate\": \"DayWeek=Sat<br>Week=%{x}<br>Likes=%{y}\", \"legendgroup\": \"DayWeek=Sat\", \"marker\": {\"color\": \"#19d3f3\"}, \"name\": \"DayWeek=Sat\", \"offsetgroup\": \"DayWeek=Sat\", \"orientation\": \"v\", \"showlegend\": true, \"textposition\": \"auto\", \"type\": \"bar\", \"x\": [26, 15, 15, 11, 11, 11, 11, 45, 38, 20, 51, 40, 2, 2, 39, 29], \"xaxis\": \"x\", \"y\": [976, 44, 966, 106, 104, 65, 239, 90, 34, 210, 15, 22, 44, 305, 28, 50], \"yaxis\": \"y\"}, {\"alignmentgroup\": \"True\", \"hoverlabel\": {\"namelength\": 0}, \"hovertemplate\": \"DayWeek=Mon<br>Week=%{x}<br>Likes=%{y}\", \"legendgroup\": \"DayWeek=Mon\", \"marker\": {\"color\": \"#FF6692\"}, \"name\": \"DayWeek=Mon\", \"offsetgroup\": \"DayWeek=Mon\", \"orientation\": \"v\", \"showlegend\": true, \"textposition\": \"auto\", \"type\": \"bar\", \"x\": [24, 19, 19, 17, 13, 11, 10, 8, 7, 6, 5, 4, 3, 46, 43, 39, 38, 37, 37, 36, 36, 35, 35, 32, 28, 26, 26, 25, 25, 25, 24, 23, 21, 21, 20, 19, 19, 19, 19, 19, 19, 19, 19, 17, 14, 12, 11, 10, 8, 7, 5, 4, 4, 4, 51, 51, 51, 51, 48, 44, 44, 44, 43, 41, 40, 38, 36, 36, 36, 35, 34, 29, 28, 28, 26, 24, 22, 20, 19, 17, 13, 11, 9, 7, 50, 49, 49, 47, 46, 41, 40, 40, 38, 37, 36, 33, 32, 28, 26, 25], \"xaxis\": \"x\", \"y\": [1398, 125, 6238, 818, 17344, 1758, 280, 1594, 1168, 816, 316, 473, 855, 3329, 937, 697, 402, 9, 139, 17, 1031, 31, 1130, 329, 391, 28, 1093, 66, 61, 30, 468, 631, 452, 17, 705, 62, 101, 56, 53, 61, 77, 147, 880, 291, 30, 446, 260, 190, 584, 557, 2225, 43, 24, 1366, 260, 769, 16, 17, 345, 208, 13, 33, 36, 177, 260, 816, 47, 13, 116, 659, 206, 46, 77, 14, 23, 157, 39, 64, 54, 29, 367, 336, 485, 7, 15, 260, 26, 44, 334, 62, 19, 11, 25, 247, 49, 64, 42, 245, 72, 41], \"yaxis\": \"y\"}],\n",
       "                        {\"barmode\": \"relative\", \"legend\": {\"tracegroupgap\": 0}, \"margin\": {\"t\": 60}, \"template\": {\"data\": {\"bar\": [{\"error_x\": {\"color\": \"#2a3f5f\"}, \"error_y\": {\"color\": \"#2a3f5f\"}, \"marker\": {\"line\": {\"color\": \"#E5ECF6\", \"width\": 0.5}}, \"type\": \"bar\"}], \"barpolar\": [{\"marker\": {\"line\": {\"color\": \"#E5ECF6\", \"width\": 0.5}}, \"type\": \"barpolar\"}], \"carpet\": [{\"aaxis\": {\"endlinecolor\": \"#2a3f5f\", \"gridcolor\": \"white\", \"linecolor\": \"white\", \"minorgridcolor\": \"white\", \"startlinecolor\": \"#2a3f5f\"}, \"baxis\": {\"endlinecolor\": \"#2a3f5f\", \"gridcolor\": \"white\", \"linecolor\": \"white\", \"minorgridcolor\": \"white\", \"startlinecolor\": \"#2a3f5f\"}, \"type\": \"carpet\"}], \"choropleth\": [{\"colorbar\": {\"outlinewidth\": 0, \"ticks\": \"\"}, \"type\": \"choropleth\"}], \"contour\": [{\"colorbar\": {\"outlinewidth\": 0, \"ticks\": \"\"}, \"colorscale\": [[0.0, \"#0d0887\"], [0.1111111111111111, \"#46039f\"], [0.2222222222222222, \"#7201a8\"], [0.3333333333333333, \"#9c179e\"], [0.4444444444444444, \"#bd3786\"], [0.5555555555555556, \"#d8576b\"], [0.6666666666666666, \"#ed7953\"], [0.7777777777777778, \"#fb9f3a\"], [0.8888888888888888, \"#fdca26\"], [1.0, \"#f0f921\"]], \"type\": \"contour\"}], \"contourcarpet\": [{\"colorbar\": {\"outlinewidth\": 0, \"ticks\": \"\"}, \"type\": \"contourcarpet\"}], \"heatmap\": [{\"colorbar\": {\"outlinewidth\": 0, \"ticks\": \"\"}, \"colorscale\": [[0.0, \"#0d0887\"], [0.1111111111111111, \"#46039f\"], [0.2222222222222222, \"#7201a8\"], [0.3333333333333333, \"#9c179e\"], [0.4444444444444444, \"#bd3786\"], [0.5555555555555556, \"#d8576b\"], [0.6666666666666666, \"#ed7953\"], [0.7777777777777778, \"#fb9f3a\"], [0.8888888888888888, \"#fdca26\"], [1.0, \"#f0f921\"]], \"type\": \"heatmap\"}], \"heatmapgl\": [{\"colorbar\": {\"outlinewidth\": 0, \"ticks\": \"\"}, \"colorscale\": [[0.0, \"#0d0887\"], [0.1111111111111111, \"#46039f\"], [0.2222222222222222, \"#7201a8\"], [0.3333333333333333, \"#9c179e\"], [0.4444444444444444, \"#bd3786\"], [0.5555555555555556, \"#d8576b\"], [0.6666666666666666, \"#ed7953\"], [0.7777777777777778, \"#fb9f3a\"], [0.8888888888888888, \"#fdca26\"], [1.0, \"#f0f921\"]], \"type\": \"heatmapgl\"}], \"histogram\": [{\"marker\": {\"colorbar\": {\"outlinewidth\": 0, \"ticks\": \"\"}}, \"type\": \"histogram\"}], \"histogram2d\": [{\"colorbar\": {\"outlinewidth\": 0, \"ticks\": \"\"}, \"colorscale\": [[0.0, \"#0d0887\"], [0.1111111111111111, \"#46039f\"], [0.2222222222222222, \"#7201a8\"], [0.3333333333333333, \"#9c179e\"], [0.4444444444444444, \"#bd3786\"], [0.5555555555555556, \"#d8576b\"], [0.6666666666666666, \"#ed7953\"], [0.7777777777777778, \"#fb9f3a\"], [0.8888888888888888, \"#fdca26\"], [1.0, \"#f0f921\"]], \"type\": \"histogram2d\"}], \"histogram2dcontour\": [{\"colorbar\": {\"outlinewidth\": 0, \"ticks\": \"\"}, \"colorscale\": [[0.0, \"#0d0887\"], [0.1111111111111111, \"#46039f\"], [0.2222222222222222, \"#7201a8\"], [0.3333333333333333, \"#9c179e\"], [0.4444444444444444, \"#bd3786\"], [0.5555555555555556, \"#d8576b\"], [0.6666666666666666, \"#ed7953\"], [0.7777777777777778, \"#fb9f3a\"], [0.8888888888888888, \"#fdca26\"], [1.0, \"#f0f921\"]], \"type\": \"histogram2dcontour\"}], \"mesh3d\": [{\"colorbar\": {\"outlinewidth\": 0, \"ticks\": \"\"}, \"type\": \"mesh3d\"}], \"parcoords\": [{\"line\": {\"colorbar\": {\"outlinewidth\": 0, \"ticks\": \"\"}}, \"type\": \"parcoords\"}], \"pie\": [{\"automargin\": true, \"type\": \"pie\"}], \"scatter\": [{\"marker\": {\"colorbar\": {\"outlinewidth\": 0, \"ticks\": \"\"}}, \"type\": \"scatter\"}], \"scatter3d\": [{\"line\": {\"colorbar\": {\"outlinewidth\": 0, \"ticks\": \"\"}}, \"marker\": {\"colorbar\": {\"outlinewidth\": 0, \"ticks\": \"\"}}, \"type\": \"scatter3d\"}], \"scattercarpet\": [{\"marker\": {\"colorbar\": {\"outlinewidth\": 0, \"ticks\": \"\"}}, \"type\": \"scattercarpet\"}], \"scattergeo\": [{\"marker\": {\"colorbar\": {\"outlinewidth\": 0, \"ticks\": \"\"}}, \"type\": \"scattergeo\"}], \"scattergl\": [{\"marker\": {\"colorbar\": {\"outlinewidth\": 0, \"ticks\": \"\"}}, \"type\": \"scattergl\"}], \"scattermapbox\": [{\"marker\": {\"colorbar\": {\"outlinewidth\": 0, \"ticks\": \"\"}}, \"type\": \"scattermapbox\"}], \"scatterpolar\": [{\"marker\": {\"colorbar\": {\"outlinewidth\": 0, \"ticks\": \"\"}}, \"type\": \"scatterpolar\"}], \"scatterpolargl\": [{\"marker\": {\"colorbar\": {\"outlinewidth\": 0, \"ticks\": \"\"}}, \"type\": \"scatterpolargl\"}], \"scatterternary\": [{\"marker\": {\"colorbar\": {\"outlinewidth\": 0, \"ticks\": \"\"}}, \"type\": \"scatterternary\"}], \"surface\": [{\"colorbar\": {\"outlinewidth\": 0, \"ticks\": \"\"}, \"colorscale\": [[0.0, \"#0d0887\"], [0.1111111111111111, \"#46039f\"], [0.2222222222222222, \"#7201a8\"], [0.3333333333333333, \"#9c179e\"], [0.4444444444444444, \"#bd3786\"], [0.5555555555555556, \"#d8576b\"], [0.6666666666666666, \"#ed7953\"], [0.7777777777777778, \"#fb9f3a\"], [0.8888888888888888, \"#fdca26\"], [1.0, \"#f0f921\"]], \"type\": \"surface\"}], \"table\": [{\"cells\": {\"fill\": {\"color\": \"#EBF0F8\"}, \"line\": {\"color\": \"white\"}}, \"header\": {\"fill\": {\"color\": \"#C8D4E3\"}, \"line\": {\"color\": \"white\"}}, \"type\": \"table\"}]}, \"layout\": {\"annotationdefaults\": {\"arrowcolor\": \"#2a3f5f\", \"arrowhead\": 0, \"arrowwidth\": 1}, \"coloraxis\": {\"colorbar\": {\"outlinewidth\": 0, \"ticks\": \"\"}}, \"colorscale\": {\"diverging\": [[0, \"#8e0152\"], [0.1, \"#c51b7d\"], [0.2, \"#de77ae\"], [0.3, \"#f1b6da\"], [0.4, \"#fde0ef\"], [0.5, \"#f7f7f7\"], [0.6, \"#e6f5d0\"], [0.7, \"#b8e186\"], [0.8, \"#7fbc41\"], [0.9, \"#4d9221\"], [1, \"#276419\"]], \"sequential\": [[0.0, \"#0d0887\"], [0.1111111111111111, \"#46039f\"], [0.2222222222222222, \"#7201a8\"], [0.3333333333333333, \"#9c179e\"], [0.4444444444444444, \"#bd3786\"], [0.5555555555555556, \"#d8576b\"], [0.6666666666666666, \"#ed7953\"], [0.7777777777777778, \"#fb9f3a\"], [0.8888888888888888, \"#fdca26\"], [1.0, \"#f0f921\"]], \"sequentialminus\": [[0.0, \"#0d0887\"], [0.1111111111111111, \"#46039f\"], [0.2222222222222222, \"#7201a8\"], [0.3333333333333333, \"#9c179e\"], [0.4444444444444444, \"#bd3786\"], [0.5555555555555556, \"#d8576b\"], [0.6666666666666666, \"#ed7953\"], [0.7777777777777778, \"#fb9f3a\"], [0.8888888888888888, \"#fdca26\"], [1.0, \"#f0f921\"]]}, \"colorway\": [\"#636efa\", \"#EF553B\", \"#00cc96\", \"#ab63fa\", \"#FFA15A\", \"#19d3f3\", \"#FF6692\", \"#B6E880\", \"#FF97FF\", \"#FECB52\"], \"font\": {\"color\": \"#2a3f5f\"}, \"geo\": {\"bgcolor\": \"white\", \"lakecolor\": \"white\", \"landcolor\": \"#E5ECF6\", \"showlakes\": true, \"showland\": true, \"subunitcolor\": \"white\"}, \"hoverlabel\": {\"align\": \"left\"}, \"hovermode\": \"closest\", \"mapbox\": {\"style\": \"light\"}, \"paper_bgcolor\": \"white\", \"plot_bgcolor\": \"#E5ECF6\", \"polar\": {\"angularaxis\": {\"gridcolor\": \"white\", \"linecolor\": \"white\", \"ticks\": \"\"}, \"bgcolor\": \"#E5ECF6\", \"radialaxis\": {\"gridcolor\": \"white\", \"linecolor\": \"white\", \"ticks\": \"\"}}, \"scene\": {\"xaxis\": {\"backgroundcolor\": \"#E5ECF6\", \"gridcolor\": \"white\", \"gridwidth\": 2, \"linecolor\": \"white\", \"showbackground\": true, \"ticks\": \"\", \"zerolinecolor\": \"white\"}, \"yaxis\": {\"backgroundcolor\": \"#E5ECF6\", \"gridcolor\": \"white\", \"gridwidth\": 2, \"linecolor\": \"white\", \"showbackground\": true, \"ticks\": \"\", \"zerolinecolor\": \"white\"}, \"zaxis\": {\"backgroundcolor\": \"#E5ECF6\", \"gridcolor\": \"white\", \"gridwidth\": 2, \"linecolor\": \"white\", \"showbackground\": true, \"ticks\": \"\", \"zerolinecolor\": \"white\"}}, \"shapedefaults\": {\"line\": {\"color\": \"#2a3f5f\"}}, \"ternary\": {\"aaxis\": {\"gridcolor\": \"white\", \"linecolor\": \"white\", \"ticks\": \"\"}, \"baxis\": {\"gridcolor\": \"white\", \"linecolor\": \"white\", \"ticks\": \"\"}, \"bgcolor\": \"#E5ECF6\", \"caxis\": {\"gridcolor\": \"white\", \"linecolor\": \"white\", \"ticks\": \"\"}}, \"title\": {\"x\": 0.05}, \"xaxis\": {\"automargin\": true, \"gridcolor\": \"white\", \"linecolor\": \"white\", \"ticks\": \"\", \"title\": {\"standoff\": 15}, \"zerolinecolor\": \"white\", \"zerolinewidth\": 2}, \"yaxis\": {\"automargin\": true, \"gridcolor\": \"white\", \"linecolor\": \"white\", \"ticks\": \"\", \"title\": {\"standoff\": 15}, \"zerolinecolor\": \"white\", \"zerolinewidth\": 2}}}, \"xaxis\": {\"anchor\": \"y\", \"domain\": [0.0, 1.0], \"title\": {\"text\": \"Week\"}}, \"yaxis\": {\"anchor\": \"x\", \"domain\": [0.0, 1.0], \"title\": {\"text\": \"Likes\"}}},\n",
       "                        {\"responsive\": true}\n",
       "                    ).then(function(){\n",
       "                            \n",
       "var gd = document.getElementById('5300da43-19d4-4725-a83b-f6c553fb37c7');\n",
       "var x = new MutationObserver(function (mutations, observer) {{\n",
       "        var display = window.getComputedStyle(gd).display;\n",
       "        if (!display || display === 'none') {{\n",
       "            console.log([gd, 'removed!']);\n",
       "            Plotly.purge(gd);\n",
       "            observer.disconnect();\n",
       "        }}\n",
       "}});\n",
       "\n",
       "// Listen for the removal of the full notebook cells\n",
       "var notebookContainer = gd.closest('#notebook-container');\n",
       "if (notebookContainer) {{\n",
       "    x.observe(notebookContainer, {childList: true});\n",
       "}}\n",
       "\n",
       "// Listen for the clearing of the current output cell\n",
       "var outputEl = gd.closest('.output');\n",
       "if (outputEl) {{\n",
       "    x.observe(outputEl, {childList: true});\n",
       "}}\n",
       "\n",
       "                        })\n",
       "                };\n",
       "                });\n",
       "            </script>\n",
       "        </div>"
      ]
     },
     "metadata": {},
     "output_type": "display_data"
    }
   ],
   "source": [
    "def plot_Country(Country):\n",
    "    TwitterdfCountry = Twitterdf[(Twitterdf['Country']==Country)]\n",
    "    fig = px.bar(TwitterdfCountry.query('Year==2020'), x=\"Week\", y=\"Likes\", color = 'DayWeek')\n",
    "    fig.show()\n",
    "\n",
    "interactive(plot_Country, Country = list(['France', 'US']))"
   ]
  }
 ],
 "metadata": {
  "kernelspec": {
   "display_name": "Python 3",
   "language": "python",
   "name": "python3"
  },
  "language_info": {
   "codemirror_mode": {
    "name": "ipython",
    "version": 3
   },
   "file_extension": ".py",
   "mimetype": "text/x-python",
   "name": "python",
   "nbconvert_exporter": "python",
   "pygments_lexer": "ipython3",
   "version": "3.7.7"
  }
 },
 "nbformat": 4,
 "nbformat_minor": 4
}
